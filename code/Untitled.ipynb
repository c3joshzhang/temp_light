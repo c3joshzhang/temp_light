{
 "cells": [
  {
   "cell_type": "code",
   "execution_count": 1,
   "id": "232c9d5e-e43f-4462-a53c-504f57964e4f",
   "metadata": {},
   "outputs": [],
   "source": [
    "import sys\n",
    "sys.path.append(\"/Users/joshzhang/Documents/LinuxShare/repos/symlinks/optim_base/optim/resource\")\n",
    "sys.path.append(\"/Users/joshzhang/Documents/LinuxShare/repos/symlinks/optim_base/pylib/resource\")"
   ]
  },
  {
   "cell_type": "code",
   "execution_count": 2,
   "id": "f479eb34-3a37-4ce0-929b-1517895e3710",
   "metadata": {},
   "outputs": [],
   "source": [
    "from optim.formulation.tutorials import knapsack as ks\n",
    "import numpy as np"
   ]
  },
  {
   "cell_type": "code",
   "execution_count": 3,
   "id": "12d092cb-9b30-48fa-8bb6-6b89b91cd1b1",
   "metadata": {},
   "outputs": [
    {
     "name": "stdout",
     "output_type": "stream",
     "text": [
      "Set parameter CloudAccessID\n",
      "Set parameter CloudSecretKey\n",
      "Set parameter CloudPool to value \"831775-C3Dev\"\n",
      "Set parameter CSAppName to value \"Josh\"\n",
      "Compute Server job ID: 6edaa93e-6cf2-4839-9fa5-eda07df1c700\n",
      "Capacity available on '831775-C3Dev' cloud pool - connecting...\n",
      "Established HTTPS encrypted connection\n"
     ]
    }
   ],
   "source": [
    "import gurobipy as gp\n",
    "import json\n",
    "\n",
    "with open(\"gb.lic\") as f:\n",
    "    env = gp.Env(params=json.load(f))"
   ]
  },
  {
   "cell_type": "code",
   "execution_count": 4,
   "id": "faee1b48-eebe-4889-b3bb-2c92acd71d25",
   "metadata": {},
   "outputs": [
    {
     "name": "stdout",
     "output_type": "stream",
     "text": [
      "1/1: Added <SelectIndicator: SelectIndicator>, 0.04449 seconds\n",
      "------------------------------------------------------------------------------\n",
      "1/1: Added <LessThanWeightLimit: LessThanWeightLimit>, 0.00711 seconds\n",
      "------------------------------------------------------------------------------\n",
      "1/1: Added <MaxTotalWeight: MaxTotalWeight>, 0.02864 seconds\n",
      "------------------------------------------------------------------------------\n",
      "1/1: Added <SelectIndicator: SelectIndicator>, 0.00536 seconds\n",
      "------------------------------------------------------------------------------\n",
      "1/1: Added <LessThanWeightLimit: LessThanWeightLimit>, 0.00432 seconds\n",
      "------------------------------------------------------------------------------\n",
      "1/1: Added <MaxTotalWeight: MaxTotalWeight>, 0.05686 seconds\n",
      "------------------------------------------------------------------------------\n"
     ]
    }
   ],
   "source": [
    "import gurobipy as gp\n",
    "from optim.formulation.components import Formulation\n",
    "from optim.formulation.solve import Solver\n",
    "from optim.formulation.tutorials.knapsack import KnapsackData, MaxTotalWeight, LessThanWeightLimit\n",
    "\n",
    "data = KnapsackData(weights=np.random.randint(1, 50, 1500), limit=5000)\n",
    "formulation = Formulation([MaxTotalWeight()], [LessThanWeightLimit()])\n",
    "solver = Solver(gp.Model(env=env))\n",
    "m1 = solver.build_model(formulation.for_data(data))\n",
    "m2 = solver.build_model(formulation.rebuild().for_data(data))\n"
   ]
  },
  {
   "cell_type": "code",
   "execution_count": 5,
   "id": "71bbcd31-b604-4d76-948d-4fbbe00719ae",
   "metadata": {},
   "outputs": [
    {
     "name": "stdout",
     "output_type": "stream",
     "text": [
      "Gurobi Compute Server Worker version 12.0.0 build v12.0.0rc1 (linux64 - \"Ubuntu 20.04.6 LTS\")\n",
      "\n",
      "CPU model: Intel(R) Xeon(R) Platinum 8375C CPU @ 2.90GHz, instruction set [SSE2|AVX|AVX2|AVX512]\n",
      "Thread count: 8 physical cores, 16 logical processors, using up to 16 threads\n",
      "\n",
      "Non-default parameters:\n",
      "CSIdleTimeout  1800\n",
      "\n",
      "Optimize a model with 2 rows, 1501 columns and 3001 nonzeros\n",
      "Model fingerprint: 0x3a010045\n",
      "Variable types: 1 continuous, 1500 integer (1500 binary)\n",
      "Coefficient statistics:\n",
      "  Matrix range     [1e+00, 5e+01]\n",
      "  Objective range  [5e-01, 5e-01]\n",
      "  Bounds range     [1e+00, 1e+00]\n",
      "  RHS range        [5e+03, 5e+03]\n",
      "Found heuristic solution: objective -0.0000000\n",
      "Presolve removed 2 rows and 1501 columns\n",
      "Presolve time: 0.00s\n",
      "Presolve: All rows and columns removed\n",
      "\n",
      "Explored 0 nodes (0 simplex iterations) in 0.00 seconds (0.00 work units)\n",
      "Thread count was 1 (of 16 available processors)\n",
      "\n",
      "Solution count 2: 2500 -0 \n",
      "\n",
      "Optimal solution found (tolerance 1.00e-04)\n",
      "Best objective 2.500000000000e+03, best bound 2.500000000000e+03, gap 0.0000%\n"
     ]
    },
    {
     "ename": "GurobiError",
     "evalue": "Invalid operation: optimization is in progress",
     "output_type": "error",
     "traceback": [
      "\u001b[0;31m---------------------------------------------------------------------------\u001b[0m",
      "\u001b[0;31mGurobiError\u001b[0m                               Traceback (most recent call last)",
      "Cell \u001b[0;32mIn[5], line 2\u001b[0m\n\u001b[1;32m      1\u001b[0m m1\u001b[38;5;241m.\u001b[39moptimizeAsync()\n\u001b[0;32m----> 2\u001b[0m \u001b[43mm2\u001b[49m\u001b[38;5;241;43m.\u001b[39;49m\u001b[43moptimizeAsync\u001b[49m\u001b[43m(\u001b[49m\u001b[43m)\u001b[49m\n",
      "File \u001b[0;32msrc/gurobipy/_model.pyx:977\u001b[0m, in \u001b[0;36mgurobipy._model.Model.optimizeAsync\u001b[0;34m()\u001b[0m\n",
      "File \u001b[0;32msrc/gurobipy/_model.pyx:207\u001b[0m, in \u001b[0;36mgurobipy._model.Model._raise_if_async_running\u001b[0;34m()\u001b[0m\n",
      "\u001b[0;31mGurobiError\u001b[0m: Invalid operation: optimization is in progress"
     ]
    }
   ],
   "source": [
    "m1.optimizeAsync()\n",
    "m2.optimizeAsync()"
   ]
  },
  {
   "cell_type": "code",
   "execution_count": null,
   "id": "150c7be3-ae7a-44cf-99ee-b50accd6445b",
   "metadata": {},
   "outputs": [],
   "source": [
    "m1.sync()"
   ]
  },
  {
   "cell_type": "code",
   "execution_count": null,
   "id": "b2c026e4-0eb5-4351-9332-c1b9f669fba7",
   "metadata": {},
   "outputs": [],
   "source": [
    "step.callbacks "
   ]
  }
 ],
 "metadata": {
  "kernelspec": {
   "display_name": "Python 3 (ipykernel)",
   "language": "python",
   "name": "python3"
  },
  "language_info": {
   "codemirror_mode": {
    "name": "ipython",
    "version": 3
   },
   "file_extension": ".py",
   "mimetype": "text/x-python",
   "name": "python",
   "nbconvert_exporter": "python",
   "pygments_lexer": "ipython3",
   "version": "3.10.13"
  }
 },
 "nbformat": 4,
 "nbformat_minor": 5
}
