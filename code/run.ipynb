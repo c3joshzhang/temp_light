{
 "cells": [
  {
   "cell_type": "code",
   "execution_count": 1,
   "metadata": {},
   "outputs": [],
   "source": [
    "import torch\n",
    "import gurobipy as gp"
   ]
  },
  {
   "cell_type": "code",
   "execution_count": 2,
   "metadata": {},
   "outputs": [],
   "source": [
    "from learn.train import build_inst, build_graphs, remove_redundant_nodes, get_train_mask, get_solution_mask, get_mask_node_feature\n",
    "from learn.model import Model, FocalLoss\n",
    "from learn.generator import maximum_independent_set_problem"
   ]
  },
  {
   "cell_type": "code",
   "execution_count": 13,
   "metadata": {
    "scrolled": true
   },
   "outputs": [],
   "source": [
    "%%capture\n",
    "inst = build_inst(maximum_independent_set_problem, 256)\n",
    "graphs = build_graphs(inst)\n",
    "for g in graphs:\n",
    "    remove_redundant_nodes(g)"
   ]
  },
  {
   "cell_type": "code",
   "execution_count": 14,
   "metadata": {},
   "outputs": [],
   "source": [
    "mask_feat_size = 2\n",
    "n_node_feats = graphs[0].ndata['feat'].shape[1] + mask_feat_size\n",
    "n_edge_feats = graphs[0].edata['feat'].shape[1]\n",
    "num_classes = int(graphs[0].ndata['label'].max()) + 1\n",
    "hidden_size = 64"
   ]
  },
  {
   "cell_type": "code",
   "execution_count": 15,
   "metadata": {},
   "outputs": [],
   "source": [
    "model = Model(n_node_feats, n_edge_feats, hidden_size, num_classes)\n",
    "optimizer = torch.optim.Adam(model.parameters(), lr=1e-4, weight_decay=1e-5)"
   ]
  },
  {
   "cell_type": "code",
   "execution_count": null,
   "metadata": {
    "scrolled": true
   },
   "outputs": [
    {
     "name": "stdout",
     "output_type": "stream",
     "text": [
      "Total number of graphs 965\n",
      "loss 130.79868\n",
      "##############################################################################\n",
      "loss 121.78383\n",
      "##############################################################################\n",
      "loss 111.15831\n",
      "##############################################################################\n",
      "------------------------------------------------------------------------------\n",
      "[[0.2569305  0.74306947 0.        ]\n",
      " [0.30245173 0.6975483  0.        ]\n",
      " [0.25150758 0.7484925  0.        ]\n",
      " [0.2649356  0.7350644  0.        ]\n",
      " [0.25885    0.74114996 0.        ]\n",
      " [0.22214949 0.77785057 0.        ]\n",
      " [0.27809158 0.72190845 0.        ]\n",
      " [0.27028927 0.72971076 0.        ]\n",
      " [0.2971126  0.70288736 0.        ]\n",
      " [0.24381727 0.75618273 0.        ]\n",
      " [0.2242402  0.7757598  0.        ]\n",
      " [0.23180696 0.768193   0.        ]\n",
      " [0.22373532 0.77626467 0.        ]\n",
      " [0.26100263 0.73899734 0.        ]\n",
      " [0.23463428 0.7653657  0.        ]\n",
      " [0.26202148 0.7379785  0.        ]\n",
      " [0.4171406  0.5828594  1.        ]\n",
      " [0.31280926 0.6871908  0.        ]\n",
      " [0.2655922  0.73440784 0.        ]\n",
      " [0.25312835 0.7468716  0.        ]\n",
      " [0.24664882 0.7533512  1.        ]\n",
      " [0.24844193 0.75155807 0.        ]\n",
      " [0.23747396 0.762526   1.        ]\n",
      " [0.2448689  0.7551311  0.        ]\n",
      " [0.24934936 0.75065064 0.        ]\n",
      " [0.44764712 0.5523529  1.        ]\n",
      " [0.24060069 0.7593993  0.        ]\n",
      " [0.21303886 0.7869612  1.        ]\n",
      " [0.27219817 0.72780186 0.        ]\n",
      " [0.22207583 0.7779241  0.        ]\n",
      " [0.32069975 0.67930025 0.        ]\n",
      " [0.2550406  0.7449594  0.        ]\n",
      " [0.26960626 0.73039377 0.        ]\n",
      " [0.26237968 0.73762035 0.        ]\n",
      " [0.2687431  0.7312569  0.        ]\n",
      " [0.22830163 0.77169836 0.        ]\n",
      " [0.23539402 0.76460594 0.        ]\n",
      " [0.32740155 0.6725985  0.        ]\n",
      " [0.32903227 0.67096776 0.        ]\n",
      " [0.26787925 0.7321208  0.        ]\n",
      " [0.24887304 0.751127   0.        ]\n",
      " [0.27292305 0.72707695 1.        ]\n",
      " [0.2420904  0.75790954 0.        ]\n",
      " [0.21984296 0.780157   0.        ]\n",
      " [0.31491396 0.6850861  0.        ]\n",
      " [0.25210232 0.7478977  0.        ]\n",
      " [0.23247989 0.7675201  0.        ]\n",
      " [0.26591834 0.7340816  1.        ]\n",
      " [0.25583622 0.74416375 1.        ]\n",
      " [0.26965395 0.73034596 0.        ]]\n",
      "------------------------------------------------------------------------------\n",
      "[[0.2569305  0.74306947]\n",
      " [0.2649356  0.7350644 ]\n",
      " [0.25885    0.74114996]\n",
      " [0.22214949 0.77785057]\n",
      " [0.27028927 0.72971076]\n",
      " [0.24381727 0.75618273]\n",
      " [0.2242402  0.7757598 ]\n",
      " [0.23180696 0.768193  ]\n",
      " [0.22373532 0.77626467]\n",
      " [0.26100263 0.73899734]]\n",
      "[0 0 0 0 0 0 0 0 0 0]\n",
      "^^^^^^^^^^^^^^^^^^^^^^^^^^^^^^^^^^^^^^^^^^^^^^^^^^^^^^^^^^^^^^^^^^^^^^^^^^^^^^\n"
     ]
    }
   ],
   "source": [
    "import random\n",
    "\n",
    "print(\"Total number of graphs\", len(graphs))\n",
    "num_epochs = 500\n",
    "for epoch in range(num_epochs):\n",
    "    \n",
    "    model.train()\n",
    "    optimizer.zero_grad()\n",
    "    \n",
    "    cntr = 0\n",
    "    loss = 0\n",
    "\n",
    "    random.shuffle(graphs)\n",
    "    for i, g in enumerate(graphs):\n",
    "\n",
    "        train_mask = get_train_mask(g, ratio=0.5)\n",
    "        solution_mask = get_solution_mask(train_mask, (0.2, 1.0))\n",
    "        node_feat_with_hint, hint_mask = get_mask_node_feature(g.ndata['feat'], g.ndata['label'], solution_mask)\n",
    "        \n",
    "        logits = model(g, node_feat_with_hint, g.edata['feat'])\n",
    "        labels = g.ndata['label']\n",
    "        \n",
    "        loss += FocalLoss()(logits[~hint_mask], labels[~hint_mask])\n",
    "        cntr += 1\n",
    "\n",
    "        if cntr == 256:\n",
    "            print(\"loss\", loss.detach().numpy())\n",
    "            print(\"#\"*78)\n",
    "            loss.backward()\n",
    "            torch.nn.utils.clip_grad_norm_(model.parameters(), 1)\n",
    "            optimizer.step()\n",
    "\n",
    "            loss = 0\n",
    "            cntr = 0\n",
    "\n",
    "    \n",
    "    print(\"-\"*78)\n",
    "    n_vars = g.ndata['feat'][:, 2].sum().int()\n",
    "    print(\n",
    "        torch.hstack(\n",
    "            [logits, labels.reshape((labels.shape[0], -1))]\n",
    "        )[:n_vars, :].detach().numpy()\n",
    "    )\n",
    "\n",
    "    print(\"-\"*78)\n",
    "    print(logits[:n_vars][~hint_mask[:n_vars]].detach().numpy()[:10])\n",
    "    print(labels[:n_vars][~hint_mask[:n_vars]].detach().numpy()[:10])\n",
    "    print('^'*78)"
   ]
  },
  {
   "cell_type": "code",
   "execution_count": null,
   "metadata": {},
   "outputs": [],
   "source": [
    "assert 1 == 2"
   ]
  }
 ],
 "metadata": {
  "kernelspec": {
   "display_name": "Python 3 (ipykernel)",
   "language": "python",
   "name": "python3"
  },
  "language_info": {
   "codemirror_mode": {
    "name": "ipython",
    "version": 3
   },
   "file_extension": ".py",
   "mimetype": "text/x-python",
   "name": "python",
   "nbconvert_exporter": "python",
   "pygments_lexer": "ipython3",
   "version": "3.10.13"
  }
 },
 "nbformat": 4,
 "nbformat_minor": 4
}
