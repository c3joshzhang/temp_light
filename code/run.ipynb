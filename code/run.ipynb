{
 "cells": [
  {
   "cell_type": "code",
   "execution_count": 1,
   "metadata": {},
   "outputs": [],
   "source": [
    "import torch\n",
    "import gurobipy as gp"
   ]
  },
  {
   "cell_type": "code",
   "execution_count": 2,
   "metadata": {},
   "outputs": [],
   "source": [
    "from learn.train import build_inst, build_graphs, remove_redundant_nodes, get_train_mask, get_solution_mask, get_mask_node_feature\n",
    "from learn.model import Model, FocalLoss\n",
    "from learn.generator import maximum_independent_set_problem"
   ]
  },
  {
   "cell_type": "code",
   "execution_count": null,
   "metadata": {
    "scrolled": true
   },
   "outputs": [],
   "source": [
    "%%capture\n",
    "\n",
    "inst = build_inst(maximum_independent_set_problem, 1024)\n",
    "graphs = build_graphs(inst)\n",
    "for g in graphs:\n",
    "    remove_redundant_nodes(g)"
   ]
  },
  {
   "cell_type": "code",
   "execution_count": null,
   "metadata": {},
   "outputs": [],
   "source": [
    "mask_feat_size = 2\n",
    "n_node_feats = graphs[0].ndata['feat'].shape[1] + mask_feat_size\n",
    "n_edge_feats = graphs[0].edata['feat'].shape[1]\n",
    "num_classes = int(graphs[0].ndata['label'].max()) + 1\n",
    "hidden_size = 64"
   ]
  },
  {
   "cell_type": "code",
   "execution_count": null,
   "metadata": {},
   "outputs": [],
   "source": [
    "model = Model(n_node_feats, n_edge_feats, hidden_size, num_classes)\n",
    "optimizer = torch.optim.Adam(model.parameters(), lr=1e-4, weight_decay=1e-5)"
   ]
  },
  {
   "cell_type": "code",
   "execution_count": null,
   "metadata": {
    "scrolled": true
   },
   "outputs": [],
   "source": [
    "import random\n",
    "\n",
    "print(\"Total number of graphs\", len(graphs))\n",
    "num_epochs = 500\n",
    "for epoch in range(num_epochs):\n",
    "    \n",
    "    model.train()\n",
    "    optimizer.zero_grad()\n",
    "    \n",
    "    cntr = 0\n",
    "    loss = 0\n",
    "\n",
    "    random.shuffle(graphs)\n",
    "    for i, g in enumerate(graphs):\n",
    "\n",
    "        train_mask = get_train_mask(g, ratio=0.8)\n",
    "        solution_mask = get_solution_mask(train_mask, (0.2, 1.0))\n",
    "        node_feat_with_hint, hint_mask = get_mask_node_feature(g.ndata['feat'], g.ndata['label'], solution_mask)\n",
    "        \n",
    "        logits = model(g, node_feat_with_hint, g.edata['feat'])\n",
    "        labels = g.ndata['label']\n",
    "\n",
    "        n_vars = g.ndata['feat'][:, 2].sum().int()\n",
    "        loss += FocalLoss()(\n",
    "            logits[:n_vars][~hint_mask[:n_vars]], \n",
    "            labels[:n_vars][~hint_mask[:n_vars]]\n",
    "        )\n",
    "        cntr += 1\n",
    "\n",
    "        if cntr == 256:\n",
    "            print(\"loss\", loss.detach().numpy())\n",
    "            print(\"#\"*78)\n",
    "            loss.backward()\n",
    "            torch.nn.utils.clip_grad_norm_(model.parameters(), 1)\n",
    "            optimizer.step()\n",
    "\n",
    "            loss = 0\n",
    "            cntr = 0\n",
    "\n",
    "    print(\"-\"*78)\n",
    "    print(logits[:n_vars][~hint_mask[:n_vars]].detach().numpy())\n",
    "    print(labels[:n_vars][~hint_mask[:n_vars]].detach().numpy())\n",
    "    print('^'*78)"
   ]
  },
  {
   "cell_type": "code",
   "execution_count": null,
   "metadata": {},
   "outputs": [],
   "source": [
    "assert 1 == 2"
   ]
  }
 ],
 "metadata": {
  "kernelspec": {
   "display_name": "Python 3 (ipykernel)",
   "language": "python",
   "name": "python3"
  },
  "language_info": {
   "codemirror_mode": {
    "name": "ipython",
    "version": 3
   },
   "file_extension": ".py",
   "mimetype": "text/x-python",
   "name": "python",
   "nbconvert_exporter": "python",
   "pygments_lexer": "ipython3",
   "version": "3.10.13"
  }
 },
 "nbformat": 4,
 "nbformat_minor": 4
}
