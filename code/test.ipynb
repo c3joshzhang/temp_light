{
 "cells": [
  {
   "cell_type": "code",
   "execution_count": 1,
   "metadata": {},
   "outputs": [],
   "source": [
    "import torch\n",
    "import random\n",
    "import numpy as np\n",
    "from functools import partial"
   ]
  },
  {
   "cell_type": "code",
   "execution_count": 2,
   "metadata": {},
   "outputs": [],
   "source": [
    "from temp.data.gen import parallel_generate_problem, parallel_generate_solutions\n",
    "from temp.data.problem import setcover\n",
    "from temp.data.info import ModelInfo\n",
    "from temp.data.dataset import ModelGraphDataset\n",
    "from temp.data.aug import parallel_augment_info\n",
    "\n",
    "\n",
    "from temp.solver.utils import solve_inst\n"
   ]
  },
  {
   "cell_type": "code",
   "execution_count": 3,
   "metadata": {},
   "outputs": [],
   "source": [
    "PRE_TRAIN_DIR = \"temp/pre_train\"\n",
    "TRAIN_DIR = \"temp/train\"\n",
    "VALID_DIR = \"temp/valid\""
   ]
  },
  {
   "cell_type": "code",
   "execution_count": 4,
   "metadata": {},
   "outputs": [],
   "source": [
    "# parallel_generate_problem(setcover, PRE_TRAIN_DIR, 10, 10)\n",
    "# parallel_generate_solutions(PRE_TRAIN_DIR, 10)\n",
    "\n",
    "# parallel_generate_problem(setcover, TRAIN_DIR, 10, 10)\n",
    "# parallel_generate_solutions(TRAIN_DIR, 10)\n",
    "\n",
    "# parallel_generate_problem(setcover, VALID_DIR, 10, 10)\n",
    "# parallel_generate_solutions(VALID_DIR, 10)"
   ]
  },
  {
   "cell_type": "code",
   "execution_count": 5,
   "metadata": {},
   "outputs": [
    {
     "name": "stdout",
     "output_type": "stream",
     "text": [
      "Restricted license - for non-production use only - expires 2026-11-23\n",
      "Gurobi Optimizer version 12.0.1 build v12.0.1rc0 (mac64[x86] - Darwin 22.4.0 22E252)\n",
      "\n",
      "CPU model: Intel(R) Core(TM) i9-9980HK CPU @ 2.40GHz\n",
      "Thread count: 8 physical cores, 16 logical processors, using up to 16 threads\n",
      "\n",
      "Optimize a model with 100 rows, 200 columns and 1991 nonzeros\n",
      "Model fingerprint: 0x367be945\n",
      "Variable types: 0 continuous, 200 integer (200 binary)\n",
      "Coefficient statistics:\n",
      "  Matrix range     [1e+00, 1e+00]\n",
      "  Objective range  [5e+00, 2e+01]\n",
      "  Bounds range     [1e+00, 1e+00]\n",
      "  RHS range        [1e+00, 1e+00]\n",
      "Found heuristic solution: objective 187.0000000\n",
      "Presolve time: 0.00s\n",
      "Presolved: 100 rows, 200 columns, 1991 nonzeros\n",
      "Variable types: 0 continuous, 200 integer (200 binary)\n",
      "\n",
      "Root relaxation: objective 7.000526e+01, 222 iterations, 0.00 seconds (0.00 work units)\n",
      "\n",
      "    Nodes    |    Current Node    |     Objective Bounds      |     Work\n",
      " Expl Unexpl |  Obj  Depth IntInf | Incumbent    BestBd   Gap | It/Node Time\n",
      "\n",
      "     0     0   70.00526    0   52  187.00000   70.00526  62.6%     -    0s\n",
      "H    0     0                     186.0000000   70.00526  62.4%     -    0s\n",
      "H    0     0                     154.0000000   70.00526  54.5%     -    0s\n",
      "H    0     0                     107.0000000   70.00526  34.6%     -    0s\n",
      "H    0     0                     102.0000000   70.00526  31.4%     -    0s\n",
      "H    0     0                      96.0000000   70.00526  27.1%     -    0s\n",
      "H    0     0                      93.0000000   70.00526  24.7%     -    0s\n",
      "H    0     0                      90.0000000   70.00526  22.2%     -    0s\n",
      "H    0     0                      81.0000000   70.57097  12.9%     -    0s\n",
      "     0     0   70.57097    0   55   81.00000   70.57097  12.9%     -    0s\n",
      "     0     0   70.79306    0   52   81.00000   70.79306  12.6%     -    0s\n",
      "     0     0   70.91514    0   53   81.00000   70.91514  12.5%     -    0s\n",
      "     0     0   70.92436    0   53   81.00000   70.92436  12.4%     -    0s\n",
      "     0     0   70.93888    0   53   81.00000   70.93888  12.4%     -    0s\n",
      "     0     0   70.94001    0   53   81.00000   70.94001  12.4%     -    0s\n",
      "     0     0   70.94068    0   55   81.00000   70.94068  12.4%     -    0s\n",
      "     0     0   70.94082    0   55   81.00000   70.94082  12.4%     -    0s\n",
      "     0     0   70.94175    0   55   81.00000   70.94175  12.4%     -    0s\n",
      "     0     0   71.72097    0   54   81.00000   71.72097  11.5%     -    0s\n",
      "     0     0   71.89848    0   54   81.00000   71.89848  11.2%     -    0s\n",
      "     0     0   71.89848    0   54   81.00000   71.89848  11.2%     -    0s\n",
      "     0     0   73.70699    0   55   81.00000   73.70699  9.00%     -    0s\n",
      "     0     0   73.70699    0   55   81.00000   73.70699  9.00%     -    0s\n",
      "     0     0   77.77388    0   54   81.00000   77.77388  3.98%     -    0s\n",
      "     0     0   77.79070    0   52   81.00000   77.79070  3.96%     -    0s\n",
      "     0     0   77.79070    0   56   81.00000   77.79070  3.96%     -    0s\n",
      "     0     0   77.79070    0   54   81.00000   77.79070  3.96%     -    0s\n",
      "     0     0   77.79070    0   56   81.00000   77.79070  3.96%     -    0s\n",
      "     0     0   77.79070    0   57   81.00000   77.79070  3.96%     -    0s\n",
      "     0     0   77.79070    0   58   81.00000   77.79070  3.96%     -    0s\n",
      "     0     2   77.79070    0   58   81.00000   77.79070  3.96%     -    0s\n",
      "\n",
      "Cutting planes:\n",
      "  Gomory: 2\n",
      "  MIR: 9\n",
      "  Zero half: 3\n",
      "\n",
      "Explored 146 nodes (3718 simplex iterations) in 0.31 seconds (0.25 work units)\n",
      "Thread count was 16 (of 16 available processors)\n",
      "\n",
      "Solution count 9: 81 90 93 ... 187\n",
      "\n",
      "Optimal solution found (tolerance 1.00e-04)\n",
      "Best objective 8.100000000000e+01, best bound 8.100000000000e+01, gap 0.0000%\n"
     ]
    }
   ],
   "source": [
    "m = setcover()\n",
    "vals = solve_inst(m)\n",
    "info = ModelInfo.from_model(m)\n",
    "info.var_info.sols = np.array([[m.objVal] + vals])"
   ]
  },
  {
   "cell_type": "code",
   "execution_count": 6,
   "metadata": {},
   "outputs": [],
   "source": [
    "from temp.data.dataset import info_to_data\n",
    "d = info_to_data(info)\n",
    "aug = partial(parallel_augment_info, n=100)"
   ]
  },
  {
   "cell_type": "code",
   "execution_count": 11,
   "metadata": {},
   "outputs": [],
   "source": [
    "d = ModelGraphDataset(PRE_TRAIN_DIR, augment=parallel_augment_info)\n",
    "\n",
    "data = d[0][1]\n",
    "var_feature_size = data.var_node_features.size(-1)\n",
    "con_feature_size = data.con_node_features.size(-1) "
   ]
  },
  {
   "cell_type": "code",
   "execution_count": 8,
   "metadata": {},
   "outputs": [],
   "source": [
    "import pandas as pd\n",
    "CFG = pd.read_excel(\"temp/trained_models/setcover_model_configs.xlsx\", index_col=0).loc[0].to_dict()\n",
    "CFG[\"num_epochs\"] = 5\n",
    "CFG[\"num_layers\"] = 4\n",
    "CFG[\"hidden\"] = 8"
   ]
  },
  {
   "cell_type": "code",
   "execution_count": 9,
   "metadata": {},
   "outputs": [],
   "source": [
    "from temp.model.utils import get_model\n",
    "from temp.model.trainer import train"
   ]
  },
  {
   "cell_type": "code",
   "execution_count": 13,
   "metadata": {},
   "outputs": [],
   "source": [
    "model_name, model, criterion, optimizer, scheduler = get_model(\".\", var_feature_size, con_feature_size, n_batches=1, **CFG)"
   ]
  },
  {
   "cell_type": "code",
   "execution_count": 14,
   "metadata": {},
   "outputs": [],
   "source": [
    "scheduler.total_steps = 10000"
   ]
  },
  {
   "cell_type": "code",
   "execution_count": null,
   "metadata": {},
   "outputs": [],
   "source": [
    "def seed_worker(worker_id):\n",
    "    worker_seed = torch.initial_seed()\n",
    "    np.random.seed(worker_seed)\n",
    "    random.seed(worker_seed)\n",
    "\n",
    "from torch_geometric.loader import DataLoader\n",
    "pretrain_loader = DataLoader(d_pretrain, batch_size=8, shuffle=True, worker_init_fn=seed_worker, generator=torch.Generator().manual_seed(0))\n",
    "train_loader = DataLoader(d, batch_size=8, shuffle=True, worker_init_fn=seed_worker, generator=torch.Generator().manual_seed(0))\n",
    "val_loader = DataLoader(valid_d, batch_size=8, shuffle=True, worker_init_fn=seed_worker, generator=torch.Generator().manual_seed(0))"
   ]
  },
  {
   "cell_type": "code",
   "execution_count": null,
   "metadata": {},
   "outputs": [],
   "source": [
    "train(model_name, model, criterion, optimizer, scheduler, pretrain_loader, train_loader, val_loader, config, False, \"./\")"
   ]
  }
 ],
 "metadata": {
  "kernelspec": {
   "display_name": "gnn4co",
   "language": "python",
   "name": "python3"
  },
  "language_info": {
   "codemirror_mode": {
    "name": "ipython",
    "version": 3
   },
   "file_extension": ".py",
   "mimetype": "text/x-python",
   "name": "python",
   "nbconvert_exporter": "python",
   "pygments_lexer": "ipython3",
   "version": "3.10.16"
  }
 },
 "nbformat": 4,
 "nbformat_minor": 2
}
