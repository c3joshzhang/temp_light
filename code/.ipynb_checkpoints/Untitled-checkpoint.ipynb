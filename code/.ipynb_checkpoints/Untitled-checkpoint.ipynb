{
 "cells": [
  {
   "cell_type": "code",
   "execution_count": 2,
   "id": "232c9d5e-e43f-4462-a53c-504f57964e4f",
   "metadata": {},
   "outputs": [],
   "source": [
    "import sys\n",
    "sys.path.append(\"/Users/joshzhang/Documents/LinuxShare/repos/symlinks/optim_base/optim/resource\")\n",
    "sys.path.append(\"/Users/joshzhang/Documents/LinuxShare/repos/symlinks/optim_base/pylib/resource\")"
   ]
  },
  {
   "cell_type": "code",
   "execution_count": 12,
   "id": "f479eb34-3a37-4ce0-929b-1517895e3710",
   "metadata": {},
   "outputs": [],
   "source": [
    "from optim.formulation.tutorials import knapsack as ks\n",
    "import numpy as np"
   ]
  },
  {
   "cell_type": "code",
   "execution_count": 15,
   "id": "faee1b48-eebe-4889-b3bb-2c92acd71d25",
   "metadata": {},
   "outputs": [
    {
     "name": "stdout",
     "output_type": "stream",
     "text": [
      "1/1: Added <SelectIndicator: SelectIndicator>, 0.00527 seconds\n",
      "------------------------------------------------------------------------------\n",
      "1/1: Added <LessThanWeightLimit: LessThanWeightLimit>, 0.00493 seconds\n",
      "------------------------------------------------------------------------------\n",
      "1/1: Added <MaxTotalWeight: MaxTotalWeight>, 0.0505 seconds\n",
      "------------------------------------------------------------------------------\n"
     ]
    }
   ],
   "source": [
    "import gurobipy as gp\n",
    "from optim.formulation.components import Formulation\n",
    "from optim.formulation.solve import Solver\n",
    "from optim.formulation.tutorials.knapsack import KnapsackData, MaxTotalWeight, LessThanWeightLimit\n",
    "\n",
    "data = KnapsackData(weights=np.random.randint(1, 50, 1500), limit=5000)\n",
    "formulation = Formulation([MaxTotalWeight()], [LessThanWeightLimit()])\n",
    "solver = Solver(gp.Model())\n",
    "m1 = solver.build_model(formulation.for_data(data))\n",
    "m2 = solver.build_model(formulation..rebuild().for_data(data))\n"
   ]
  },
  {
   "cell_type": "code",
   "execution_count": 10,
   "id": "71bbcd31-b604-4d76-948d-4fbbe00719ae",
   "metadata": {},
   "outputs": [
    {
     "name": "stdout",
     "output_type": "stream",
     "text": [
      "Optimize a model with 2 rows, 16 columns and 25 nonzeros\n",
      "Model fingerprint: 0xa5da84cd\n",
      "Variable types: 1 continuous, 15 integer (15 binary)\n",
      "Found heuristic solution: objective -0.0000000\n",
      "Presolve removed 2 rows and 16 columns\n",
      "Presolve time: 0.00s\n",
      "Presolve: All rows and columns removed\n",
      "\n",
      "Explored 0 nodes (0 simplex iterations) in 0.01 seconds (0.00 work units)\n",
      "Thread count was 1 (of 16 available processors)\n",
      "\n",
      "Solution count 2: 7.5 -0 \n",
      "\n",
      "Optimal solution found (tolerance 1.00e-04)\n",
      "Best objective 7.500000000000e+00, best bound 7.500000000000e+00, gap 0.0000%\n"
     ]
    }
   ],
   "source": [
    "model.optimizeAsync()"
   ]
  },
  {
   "cell_type": "code",
   "execution_count": 14,
   "id": "150c7be3-ae7a-44cf-99ee-b50accd6445b",
   "metadata": {},
   "outputs": [],
   "source": [
    "model.sync()"
   ]
  },
  {
   "cell_type": "code",
   "execution_count": null,
   "id": "b2c026e4-0eb5-4351-9332-c1b9f669fba7",
   "metadata": {},
   "outputs": [],
   "source": []
  }
 ],
 "metadata": {
  "kernelspec": {
   "display_name": "Python 3 (ipykernel)",
   "language": "python",
   "name": "python3"
  },
  "language_info": {
   "codemirror_mode": {
    "name": "ipython",
    "version": 3
   },
   "file_extension": ".py",
   "mimetype": "text/x-python",
   "name": "python",
   "nbconvert_exporter": "python",
   "pygments_lexer": "ipython3",
   "version": "3.10.13"
  }
 },
 "nbformat": 4,
 "nbformat_minor": 5
}
